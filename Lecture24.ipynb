{
 "cells": [
  {
   "cell_type": "code",
   "execution_count": null,
   "id": "fb6a78e7",
   "metadata": {},
   "outputs": [],
   "source": [
    "import urllib\n",
    "import requests\n",
    "from IPython.core.display import HTML\n",
    "def css_styling():\n",
    "    styles = requests.get(\"https://raw.githubusercontent.com/saadtony/NumericalMethods/master/styles/custom.css\")\n",
    "    return HTML(styles.text)\n",
    "css_styling()"
   ]
  },
  {
   "cell_type": "markdown",
   "id": "0fdc27a4",
   "metadata": {},
   "source": [
    "# 引言\n",
    "对于不可压缩CFD的控制方程，通过有限体积法对其离散后，得到了相关变量的代数方程组。那么如何求解代数方程组，就至关重要。通常矩阵$Ax=b$的求解，有两大类方法，一类是直接解法，一类是间接解法又称迭代解法。矩阵求解是个非常大的话题，本门课程主要分析讲解迭代解法中的常见方法，Jacobi，Gauss-Seidel，CG，MG等，旋转这些方法也是OpenFOAM软件中常见的算法，具有代表性。"
   ]
  },
  {
   "cell_type": "markdown",
   "id": "d74e214f",
   "metadata": {},
   "source": [
    "# 直接解法\n",
    "直接解法在不可压缩CFD中使用较少，主要原因是有限体积法离散后所得到的动量和压力修正线性方程组都是稀疏的，采用直接解法较慢，故涉及较少，有兴趣的同学可以了解一下。直接解法可以得到矩阵的精确解，这是其优点。缺点是内存开销大，计算速度慢等。常见的直接解法，高斯消元、LU分解和TDMA等。提一句，TDMA算法速度还是很快的，但是实用性较弱。"
   ]
  },
  {
   "cell_type": "markdown",
   "id": "e64f8162",
   "metadata": {},
   "source": [
    "# 迭代解法\n",
    "由于直接解法的内存开销大、计算速度慢等弱点，所以只能选择迭代解法。以一个例题开始我们的迭代法之旅。考虑如下所示线性方程组\n",
    "\n",
    "$$\n",
    "\\tag{1}\n",
    "\\begin{array}{ccc}\n",
    "5x+2y+2z=9\\\\\n",
    "2x-6y+3z=-1\\\\\n",
    "x+2y+7z=10\n",
    "\\end{array}\n",
    "$$"
   ]
  },
  {
   "cell_type": "markdown",
   "id": "62874e5e",
   "metadata": {},
   "source": [
    "将方程组$1$进行调整，得到如下形式\n",
    "$$\\tag{2a}x^n=\\dfrac{9-2y^o-2z^o}{5}$$\n",
    "\n",
    "$$\\tag{2b}y^n=\\dfrac{1+2x^o+3z^o}{6}$$\n",
    "\n",
    "$$\\tag{2c}z^n=\\dfrac{10-x^o-2y^o}{7}$$\n",
    "\n",
    "迭代解法的思路\n",
    "1. 猜测矩阵$(x,y,z)'$的初始解，例如$(0,0,0)'$。\n",
    "2. 通过第一步给定的$y,z$计算出新的$x^n$\n",
    "3. 通过第一步给定的$x,z$计算出新的$y^n$\n",
    "4. 通过第一步给定的$x,y$计算出新的$z^n$\n",
    "5. 将新的$(x^n,y^n,z^n)$变成初始猜测值\n",
    "6. 重复2到5的过程，直到解的变化满足特定的精度要求则停止。"
   ]
  },
  {
   "cell_type": "markdown",
   "id": "ed5bcbd2",
   "metadata": {},
   "source": [
    "---\n",
    "> * 方程中的上标`n,o`表示`new,old`，只是为了方便记忆而已。后续使用有所不同\n",
    "> * 方程`o`表示旧，已知值，`n`表示新，未知待求解值\n",
    "---"
   ]
  },
  {
   "cell_type": "markdown",
   "id": "57f55699",
   "metadata": {},
   "source": [
    "### Code"
   ]
  },
  {
   "cell_type": "code",
   "execution_count": null,
   "id": "4a57fc68",
   "metadata": {
    "scrolled": false
   },
   "outputs": [],
   "source": [
    "\"\"\"\n",
    "Jacobi\n",
    "\"\"\"\n",
    "import numpy as np\n",
    "\n",
    "x_old = np.zeros((3, 1))\n",
    "x_new = np.zeros((3, 1))\n",
    "\n",
    "print(\"-----------------------------------------------------\")\n",
    "print(\"Iteration    x             y              z\")\n",
    "print(\"-----------------------------------------------------\")\n",
    "for k in range(100):\n",
    "    x_new[0] = ( 9 - 2*x_old[1] - 2*x_old[2]) / 5\n",
    "    x_new[1] = ( 1 + 2*x_old[0] + 3*x_old[2]) / 6\n",
    "    x_new[2] = (10 -   x_old[0] - 2*x_old[1]) / 7\n",
    "    print(\"%5d       |%f|    |%f|     |%f|\" %(k+1, x_new[0], x_new[1], x_new[2]))\n",
    "    if (np.linalg.norm(x_new - x_old) < 1e-6):\n",
    "        print(\"-----------------------------------------------------\")\n",
    "        break\n",
    "    if (k+1) % 5 == 0:\n",
    "        print(\"-----------------------------------------------------\")\n",
    "    x_old = np.copy(x_new)"
   ]
  },
  {
   "cell_type": "markdown",
   "id": "54946567",
   "metadata": {},
   "source": [
    "> 1. 收敛误差是精确数值解与部分迭代解之间的差值\n",
    "> 2. 不停迭代直到收敛误差达到机器精度\n",
    "> 3. 当解随着迭代过程偏离正确值，即为`发散`\n",
    "\n",
    "`影响收敛的两个因素`\n",
    "1. 系数矩阵性质\n",
    "2. 迭代解法\n",
    "\n",
    "将上述例题1, 第三行改成$7x+2y+z=10$"
   ]
  },
  {
   "cell_type": "markdown",
   "id": "35cda574",
   "metadata": {},
   "source": [
    "### Code"
   ]
  },
  {
   "cell_type": "code",
   "execution_count": null,
   "id": "e1807613",
   "metadata": {
    "scrolled": false
   },
   "outputs": [],
   "source": [
    "\"\"\"\n",
    "Jacobi\n",
    "\"\"\"\n",
    "import numpy as np\n",
    "\n",
    "x_old = np.zeros((3, 1))\n",
    "x_new = np.zeros((3, 1))\n",
    "\n",
    "print(\"-----------------------------------------------------\")\n",
    "print(\"Iteration    x             y              z\")\n",
    "print(\"-----------------------------------------------------\")\n",
    "for k in range(100):\n",
    "    x_new[0] = ( 9 - 2*x_old[1] - 2*x_old[2]) / 5\n",
    "    x_new[1] = ( 1 + 2*x_old[0] + 3*x_old[2]) / 6\n",
    "    x_new[2] = (10 - 1*x_old[0] - 2*x_old[1]) / 7\n",
    "    print(\"%5d       |%f|    |%f|     |%f|\" %(k+1, x_new[0], x_new[1], x_new[2]))\n",
    "    if (np.linalg.norm(x_new - x_old) < 1e-6):\n",
    "        print(\"-----------------------------------------------------\")\n",
    "        print(\"iteration number is: \", k+1)\n",
    "        break\n",
    "    if (k+1) % 5 == 0:\n",
    "        print(\"-----------------------------------------------------\")\n",
    "    x_old = np.copy(x_new)"
   ]
  },
  {
   "cell_type": "markdown",
   "id": "fb6cd683",
   "metadata": {},
   "source": [
    "通过观察可以发现，可以发现两个矩阵性质的不同，可以发现第一个矩阵具备下面性质\n",
    "\n",
    "$$\n",
    "a_{i,i}\\ge\\sum_{\\substack{j=1\\\\j\\neq i}}|a_{i,j}|\n",
    "$$\n",
    "\n",
    "符合这个性质的矩阵，我们称其为`对角占优`矩阵，又称其为[Scarborough criterion](https://en.wikipedia.org/wiki/Scarborough_criterion)\n",
    "\n",
    "<font color=red>注意</font>\n",
    "1. 并不是说，不满足对角占优条件的矩阵就不收敛\n",
    "2. 满足对角占优的一定收敛"
   ]
  },
  {
   "cell_type": "markdown",
   "id": "a0a489eb",
   "metadata": {},
   "source": [
    "## 方程的残差和修正形式"
   ]
  },
  {
   "cell_type": "markdown",
   "id": "3d580895",
   "metadata": {},
   "source": [
    "以[Lecture11 对流扩散问题有限体积法三](https://q8frym1nsp.feishu.cn/docx/IkKDdGZ1Yo4Q5ZxSYbWc3fgunvc)为例。有限体积法离散后\n",
    "\n",
    "局部编号下通用形式为\n",
    "$$\n",
    "\\tag{4}\n",
    "a_P\\phi_P+\\sum_{nb}a_{nb}\\phi_{nb}=S_u\n",
    "$$\n",
    "\n",
    "整体编号下通用形式为\n",
    "\n",
    "$$\n",
    "\\tag{5}\n",
    "a_{i,j}\\phi_{i,j}+a_{i+1,j}\\phi_{i+1,j}+a_{i-1,j}\\phi_{i-1,j}+a_{i,j+1}\\phi_{i,j+1}\n",
    "+a_{i,j-1}\\phi_{i,j-1}=S_u\n",
    "$$\n",
    "\n",
    "具体系数，想必大家已经清楚，不在赘述。\n",
    "\n",
    "令$$k=i+(j-1)*N$$，则公式5可写为"
   ]
  },
  {
   "cell_type": "markdown",
   "id": "3864627c",
   "metadata": {},
   "source": [
    "$$\n",
    "\\tag{6}\n",
    "a_k\\phi_k+a_{k+1}\\phi_{k+1}+a_{k-1}\\phi_{k-1}+a_{k+N}\\phi_{k+N}+a_{k-N}\\phi_{k-N}=S_k\n",
    "$$\n",
    "\n",
    "通常我们说这是`五点格式`"
   ]
  },
  {
   "cell_type": "markdown",
   "id": "71b24c67",
   "metadata": {},
   "source": [
    "如果我们通过迭代法，求解方程6，经过$n$次迭代可得$\\phi^n$，但是将其代回方程$6$，左右两边一定相等。如果相等则收敛。则\n",
    "\n",
    "$$\n",
    "\\tag{7}\n",
    "R_k^n=S_k-a_k\\phi_k^n-a_{k+1}\\phi_{k+1}^n-a_{k-1}\\phi_{k-1}^n-a_{k+N}\\phi_{k+N}^n-a_{k-N}\\phi_{k-N}^n\n",
    "$$\n",
    "\n",
    "---\n",
    "\n",
    "<font color=red>注意</font>\n",
    "\n",
    "1. $R_k^n$成为残差向量，列向量，用来判断是否收敛\n",
    "2. 如果残差向量的分量都为$0$，则收敛\n",
    "---\n",
    "\n",
    "假设迭代$n+1$步，物理量$\\phi$在第n步和第n+1步之间的关系表示为，$\\phi^{n+1}=\\phi^n+\\phi'$，则根据公式$6$可以得到下式\n",
    "\n",
    "$$\n",
    "\\tag{8}\n",
    "a_k(\\phi_k^{n}+\\phi'_k)+a_{k+1}(\\phi_{k+1}^{n}+\\phi'_{k+1})+\\\\\n",
    "a_{k-1}(\\phi_{k-1}^{n}+\\phi'_{k-1})+a_{k+N}(\\phi_{k+N}^{n}+\\phi'_{k+N})+a_{k-N}(\\phi_{k-N}^{n}+\\phi'_{k-N})\\\\=S_k\n",
    "$$\n",
    "\n",
    "因为第n次迭代的$\\phi^n$为已知值，将方程8改写整理一下，可得\n",
    "\n",
    "$$\\tag{9}\n",
    "\\boxed{a_k\\phi'_k+\\sum_{nb}a_{nb}\\phi'_{nb}=R_k^n}\\\\=S_k-a_k\\phi_k^n-a_{k+1}\\phi_{k+1}^n-a_{k-1}\\phi_{k-1}^n-a_{k+N}\\phi_{k+N}^n-a_{k-N}\\phi_{k-N}^n\n",
    "$$"
   ]
  },
  {
   "cell_type": "markdown",
   "id": "d73b7796",
   "metadata": {},
   "source": [
    "方程$9$就是线性方程组的修正形式。相对于方程$5$，我们更喜欢方程$9$的形式。因为收敛的时候，方程5是左右相等，而方程9是左右两边都为零。"
   ]
  },
  {
   "cell_type": "markdown",
   "id": "8555e912",
   "metadata": {},
   "source": [
    "使用两条标准来判别收敛\n",
    "\n",
    "$$\n",
    "\\tag{10a}\n",
    "R_1=\\sum_{k=1}^k|R_k|\n",
    "$$\n",
    "\n",
    "$$\n",
    "\\tag{10b}\n",
    "R_2=\\sqrt{\\sum_{k=1}^k(R_k)^2}\n",
    "$$\n",
    "\n",
    "这就是所谓的1和2范数。\n",
    "\n",
    "<font color=red>注意</font>   \n",
    "1. 残差使用1范数时，因为残差向量中的分量有正、有负，如果不加绝对值可能带来意想不到的效果！\n",
    "2. 10b的计算非常简单，可以用两个向量的内积来计算，$R_2=\\sqrt{R'\\cdot R}$"
   ]
  },
  {
   "cell_type": "markdown",
   "id": "2a603c5a",
   "metadata": {},
   "source": [
    "### 收敛标准\n",
    "\n",
    "$$\\tag{11}\n",
    "R_2 < \\epsilon_{tolerance}\n",
    "$$\n",
    "\n",
    "残差标准是人为根据不同问题设定的。\n"
   ]
  },
  {
   "cell_type": "markdown",
   "id": "dbb7cfa1",
   "metadata": {},
   "source": [
    "## Jacobi Method"
   ]
  },
  {
   "cell_type": "markdown",
   "id": "8565b5cb",
   "metadata": {},
   "source": [
    "最开始例题实际上就是使用的雅可比迭代法，其公式为\n",
    "\n",
    "$$\n",
    "\\tag{12}\n",
    "\\phi_k^{\\color{blue}{n+1}}=\\dfrac{S_k-\\sum_{nb}a_{nb}\\phi_{nb}^{\\color{red}n}}{a_k}\n",
    "$$\n",
    "\n",
    "![雅可比](./images/1_jacobi.png \"雅可比\")"
   ]
  },
  {
   "cell_type": "markdown",
   "id": "60aa8819",
   "metadata": {},
   "source": [
    "图片中绿色方块表示显式处理，蓝色圆圈表示隐式处理\n",
    "\n",
    "雅可比方法又称为`逐点迭代方法(point-wise iteration)`"
   ]
  },
  {
   "cell_type": "markdown",
   "id": "4ccfaf28",
   "metadata": {},
   "source": [
    "## Gauss-Seidel Method"
   ]
  },
  {
   "cell_type": "markdown",
   "id": "95a09e41",
   "metadata": {},
   "source": [
    "以五点格式为例，其公式如下\n",
    "\n",
    "$$\n",
    "\\tag{13}\n",
    "\\phi_k^{\\color{blue}{n+1}}=\\dfrac{S_k-a_{k+1}\\phi_{k+1}^{\\color{red}n}-a_{k-1}\\phi_{k-1}^{\\color{blue}{n+1}}-a_{k+N}\\phi_{k+N}^{\\color{red}n}-a_{k-N}\\phi_{k-N}^{\\color{blue}{n+1}}}{a_k}\n",
    "$$\n",
    "\n",
    "![gauss_seidel](./images/2_gauss.png \"高斯塞德尔\")"
   ]
  },
  {
   "cell_type": "markdown",
   "id": "16cd15a8",
   "metadata": {},
   "source": [
    "图片中绿色方块表示显式处理，蓝色圆圈表示隐式处理\n",
    "\n",
    "高斯塞德尔方法的显式元素别雅可比多，所以计算速度就块一些。"
   ]
  },
  {
   "cell_type": "markdown",
   "id": "4340549d",
   "metadata": {},
   "source": [
    "### code"
   ]
  },
  {
   "cell_type": "code",
   "execution_count": null,
   "id": "9ea42d4a",
   "metadata": {
    "scrolled": false
   },
   "outputs": [],
   "source": [
    "\"\"\"\n",
    "Gauss\n",
    "\"\"\"\n",
    "import numpy as np\n",
    "\n",
    "x_old = np.zeros((3, 1))\n",
    "x_new = np.zeros((3, 1))\n",
    "\n",
    "print(\"-----------------------------------------------------\")\n",
    "print(\"Iteration    x             y              z\")\n",
    "print(\"-----------------------------------------------------\")\n",
    "for k in range(100):\n",
    "    x_new[0] = ( 9 - 2*x_old[1] - 2*x_old[2]) / 5\n",
    "    x_new[1] = ( 1 + 2*x_new[0] + 3*x_old[2]) / 6\n",
    "    x_new[2] = (10 - 1*x_new[0] - 2*x_new[1]) / 7\n",
    "    print(\"%5d       |%f|    |%f|     |%f|\" %(k+1, x_new[0], x_new[1], x_new[2]))\n",
    "    if (np.linalg.norm(x_new - x_old) < 1e-6):\n",
    "        print(\"-----------------------------------------------------\")\n",
    "        print(\"iteration number is: \", k+1)\n",
    "        break\n",
    "    if (k+1) % 5 == 0:\n",
    "        print(\"-----------------------------------------------------\")\n",
    "    x_old = np.copy(x_new)"
   ]
  },
  {
   "cell_type": "markdown",
   "id": "00b817af",
   "metadata": {},
   "source": [
    "### Row-wise and Column-wise\n",
    "\n"
   ]
  },
  {
   "cell_type": "markdown",
   "id": "23500882",
   "metadata": {},
   "source": [
    "以五点格式为例\n",
    "\n",
    "![row_column_wise](./images/3_row.png \"行列扫描\")"
   ]
  },
  {
   "cell_type": "markdown",
   "id": "a72f121c",
   "metadata": {},
   "source": [
    "其计算公式为\n",
    "\n",
    "$$\n",
    "\\tag{13}\n",
    "a_k\\phi_k^{\\color{blue}{n+1}}+a_{k-1}\\phi_{k-1}^{\\color{blue}{n+1}}+a_{k+1}\\phi_{k+1}^{\\color{blue}{n+1}}=S_k+a_{k+N}\\phi_{k+N}^{\\color{red}{n}}+a_{k-N}\\phi_{k-N}^{\\color{blue}{n+1}}\n",
    "$$"
   ]
  },
  {
   "cell_type": "markdown",
   "id": "f5a0d1e3",
   "metadata": {},
   "source": [
    "<font color=red>注意</font>\n",
    "1. 细细体会图片和公式\n",
    "2. 这里要进行一次矩阵计算"
   ]
  },
  {
   "cell_type": "code",
   "execution_count": null,
   "id": "cdc22a4c",
   "metadata": {},
   "outputs": [],
   "source": []
  },
  {
   "cell_type": "code",
   "execution_count": null,
   "id": "23202125",
   "metadata": {},
   "outputs": [],
   "source": []
  },
  {
   "cell_type": "code",
   "execution_count": null,
   "id": "05f3518d",
   "metadata": {},
   "outputs": [],
   "source": []
  },
  {
   "cell_type": "code",
   "execution_count": null,
   "id": "397e752f",
   "metadata": {},
   "outputs": [],
   "source": []
  },
  {
   "cell_type": "code",
   "execution_count": null,
   "id": "49e3bc64",
   "metadata": {},
   "outputs": [],
   "source": []
  }
 ],
 "metadata": {
  "kernelspec": {
   "display_name": "Python 3 (ipykernel)",
   "language": "python",
   "name": "python3"
  },
  "language_info": {
   "codemirror_mode": {
    "name": "ipython",
    "version": 3
   },
   "file_extension": ".py",
   "mimetype": "text/x-python",
   "name": "python",
   "nbconvert_exporter": "python",
   "pygments_lexer": "ipython3",
   "version": "3.9.12"
  }
 },
 "nbformat": 4,
 "nbformat_minor": 5
}
